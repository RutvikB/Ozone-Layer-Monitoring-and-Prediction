{
  "nbformat": 4,
  "nbformat_minor": 0,
  "metadata": {
    "kernelspec": {
      "name": "python3",
      "display_name": "Python 3"
    },
    "language_info": {
      "codemirror_mode": {
        "name": "ipython",
        "version": 3
      },
      "file_extension": ".py",
      "mimetype": "text/x-python",
      "name": "python",
      "nbconvert_exporter": "python",
      "pygments_lexer": "ipython3",
      "version": "3.7.4"
    },
    "colab": {
      "name": "OZONE.ipynb",
      "provenance": [],
      "collapsed_sections": []
    },
    "accelerator": "GPU"
  },
  "cells": [
    {
      "cell_type": "markdown",
      "metadata": {
        "id": "FX2UXi0DwdT6",
        "colab_type": "text"
      },
      "source": [
        "# Import Libraries"
      ]
    },
    {
      "cell_type": "code",
      "metadata": {
        "id": "JA_0FHEO_JJ9",
        "colab_type": "code",
        "colab": {}
      },
      "source": [
        "import pandas as pd\n",
        "import numpy as np\n",
        "import matplotlib.pyplot as plt\n",
        "\n",
        "from sklearn.model_selection import train_test_split\n",
        "from sklearn.preprocessing import MinMaxScaler\n",
        "\n",
        "from keras.preprocessing.sequence import TimeseriesGenerator\n",
        "from keras.models import Sequential\n",
        "from keras.layers import Dense, Activation, LSTM, Dropout, LeakyReLU\n",
        "from tensorflow.keras.optimizers import Adam\n",
        "\n",
        "import time\n",
        "from datetime import datetime, timedelta"
      ],
      "execution_count": 0,
      "outputs": []
    },
    {
      "cell_type": "markdown",
      "metadata": {
        "id": "yccHGaEowhqn",
        "colab_type": "text"
      },
      "source": [
        "# Load Datasets"
      ]
    },
    {
      "cell_type": "code",
      "metadata": {
        "id": "z630tN1r_JKC",
        "colab_type": "code",
        "outputId": "e791d0a6-e77d-46ab-88c4-b3c6ff0944c0",
        "colab": {
          "base_uri": "https://localhost:8080/",
          "height": 195
        }
      },
      "source": [
        "data = pd.read_fwf('drive/My Drive/RandomProjects/OZONE/dobson_toARH.txt')\n",
        "data.head()"
      ],
      "execution_count": 5,
      "outputs": [
        {
          "output_type": "execute_result",
          "data": {
            "text/html": [
              "<div>\n",
              "<style scoped>\n",
              "    .dataframe tbody tr th:only-of-type {\n",
              "        vertical-align: middle;\n",
              "    }\n",
              "\n",
              "    .dataframe tbody tr th {\n",
              "        vertical-align: top;\n",
              "    }\n",
              "\n",
              "    .dataframe thead th {\n",
              "        text-align: right;\n",
              "    }\n",
              "</style>\n",
              "<table border=\"1\" class=\"dataframe\">\n",
              "  <thead>\n",
              "    <tr style=\"text-align: right;\">\n",
              "      <th></th>\n",
              "      <th>Local_Date</th>\n",
              "      <th>Time</th>\n",
              "      <th>DOY</th>\n",
              "      <th>UTC_Date</th>\n",
              "      <th>Time.1</th>\n",
              "      <th>DOY.1</th>\n",
              "      <th>Total_Ozone</th>\n",
              "      <th>Mu</th>\n",
              "      <th>INS</th>\n",
              "      <th>LS</th>\n",
              "      <th>Wavelength</th>\n",
              "      <th>Kind_of_Obs.</th>\n",
              "    </tr>\n",
              "  </thead>\n",
              "  <tbody>\n",
              "    <tr>\n",
              "      <th>0</th>\n",
              "      <td>1988/01/19</td>\n",
              "      <td>13:53</td>\n",
              "      <td>19</td>\n",
              "      <td>1988/01/19</td>\n",
              "      <td>01:53</td>\n",
              "      <td>19</td>\n",
              "      <td>298.0</td>\n",
              "      <td>1.854</td>\n",
              "      <td>17</td>\n",
              "      <td>0</td>\n",
              "      <td>AD</td>\n",
              "      <td>Direct_Sun</td>\n",
              "    </tr>\n",
              "    <tr>\n",
              "      <th>1</th>\n",
              "      <td>1988/01/20</td>\n",
              "      <td>13:25</td>\n",
              "      <td>20</td>\n",
              "      <td>1988/01/20</td>\n",
              "      <td>01:25</td>\n",
              "      <td>20</td>\n",
              "      <td>280.0</td>\n",
              "      <td>1.852</td>\n",
              "      <td>17</td>\n",
              "      <td>0</td>\n",
              "      <td>AD</td>\n",
              "      <td>Direct_Sun</td>\n",
              "    </tr>\n",
              "    <tr>\n",
              "      <th>2</th>\n",
              "      <td>1988/01/21</td>\n",
              "      <td>11:38</td>\n",
              "      <td>21</td>\n",
              "      <td>1988/01/20</td>\n",
              "      <td>23:38</td>\n",
              "      <td>20</td>\n",
              "      <td>279.0</td>\n",
              "      <td>1.907</td>\n",
              "      <td>17</td>\n",
              "      <td>0</td>\n",
              "      <td>AD</td>\n",
              "      <td>Direct_Sun</td>\n",
              "    </tr>\n",
              "    <tr>\n",
              "      <th>3</th>\n",
              "      <td>1988/01/22</td>\n",
              "      <td>13:24</td>\n",
              "      <td>22</td>\n",
              "      <td>1988/01/22</td>\n",
              "      <td>01:24</td>\n",
              "      <td>22</td>\n",
              "      <td>300.0</td>\n",
              "      <td>1.873</td>\n",
              "      <td>17</td>\n",
              "      <td>3</td>\n",
              "      <td>AD</td>\n",
              "      <td>Zenith_Cloud</td>\n",
              "    </tr>\n",
              "    <tr>\n",
              "      <th>4</th>\n",
              "      <td>1988/01/23</td>\n",
              "      <td>10:19</td>\n",
              "      <td>23</td>\n",
              "      <td>1988/01/22</td>\n",
              "      <td>22:19</td>\n",
              "      <td>22</td>\n",
              "      <td>285.0</td>\n",
              "      <td>2.072</td>\n",
              "      <td>17</td>\n",
              "      <td>0</td>\n",
              "      <td>AD</td>\n",
              "      <td>Direct_Sun</td>\n",
              "    </tr>\n",
              "  </tbody>\n",
              "</table>\n",
              "</div>"
            ],
            "text/plain": [
              "   Local_Date   Time  DOY    UTC_Date  ... INS  LS  Wavelength  Kind_of_Obs.\n",
              "0  1988/01/19  13:53   19  1988/01/19  ...  17   0          AD    Direct_Sun\n",
              "1  1988/01/20  13:25   20  1988/01/20  ...  17   0          AD    Direct_Sun\n",
              "2  1988/01/21  11:38   21  1988/01/20  ...  17   0          AD    Direct_Sun\n",
              "3  1988/01/22  13:24   22  1988/01/22  ...  17   3          AD  Zenith_Cloud\n",
              "4  1988/01/23  10:19   23  1988/01/22  ...  17   0          AD    Direct_Sun\n",
              "\n",
              "[5 rows x 12 columns]"
            ]
          },
          "metadata": {
            "tags": []
          },
          "execution_count": 5
        }
      ]
    },
    {
      "cell_type": "code",
      "metadata": {
        "id": "_2ofMeMHxU1C",
        "colab_type": "code",
        "colab": {
          "base_uri": "https://localhost:8080/",
          "height": 195
        },
        "outputId": "fbff2d8c-da76-4fe1-dadb-e605fbce5fb9"
      },
      "source": [
        "data = data[['Local_Date', 'Total_Ozone']]\n",
        "data.head()"
      ],
      "execution_count": 6,
      "outputs": [
        {
          "output_type": "execute_result",
          "data": {
            "text/html": [
              "<div>\n",
              "<style scoped>\n",
              "    .dataframe tbody tr th:only-of-type {\n",
              "        vertical-align: middle;\n",
              "    }\n",
              "\n",
              "    .dataframe tbody tr th {\n",
              "        vertical-align: top;\n",
              "    }\n",
              "\n",
              "    .dataframe thead th {\n",
              "        text-align: right;\n",
              "    }\n",
              "</style>\n",
              "<table border=\"1\" class=\"dataframe\">\n",
              "  <thead>\n",
              "    <tr style=\"text-align: right;\">\n",
              "      <th></th>\n",
              "      <th>Local_Date</th>\n",
              "      <th>Total_Ozone</th>\n",
              "    </tr>\n",
              "  </thead>\n",
              "  <tbody>\n",
              "    <tr>\n",
              "      <th>0</th>\n",
              "      <td>1988/01/19</td>\n",
              "      <td>298.0</td>\n",
              "    </tr>\n",
              "    <tr>\n",
              "      <th>1</th>\n",
              "      <td>1988/01/20</td>\n",
              "      <td>280.0</td>\n",
              "    </tr>\n",
              "    <tr>\n",
              "      <th>2</th>\n",
              "      <td>1988/01/21</td>\n",
              "      <td>279.0</td>\n",
              "    </tr>\n",
              "    <tr>\n",
              "      <th>3</th>\n",
              "      <td>1988/01/22</td>\n",
              "      <td>300.0</td>\n",
              "    </tr>\n",
              "    <tr>\n",
              "      <th>4</th>\n",
              "      <td>1988/01/23</td>\n",
              "      <td>285.0</td>\n",
              "    </tr>\n",
              "  </tbody>\n",
              "</table>\n",
              "</div>"
            ],
            "text/plain": [
              "   Local_Date  Total_Ozone\n",
              "0  1988/01/19        298.0\n",
              "1  1988/01/20        280.0\n",
              "2  1988/01/21        279.0\n",
              "3  1988/01/22        300.0\n",
              "4  1988/01/23        285.0"
            ]
          },
          "metadata": {
            "tags": []
          },
          "execution_count": 6
        }
      ]
    },
    {
      "cell_type": "code",
      "metadata": {
        "id": "0Q4ZgqdO_JKG",
        "colab_type": "code",
        "outputId": "57339ed2-9a69-406c-d54c-e2f15937feed",
        "colab": {
          "base_uri": "https://localhost:8080/",
          "height": 225
        }
      },
      "source": [
        "data.Local_Date = pd.to_datetime(data.Local_Date)\n",
        "data = data.set_index('Local_Date')\n",
        "data.head()"
      ],
      "execution_count": 10,
      "outputs": [
        {
          "output_type": "execute_result",
          "data": {
            "text/html": [
              "<div>\n",
              "<style scoped>\n",
              "    .dataframe tbody tr th:only-of-type {\n",
              "        vertical-align: middle;\n",
              "    }\n",
              "\n",
              "    .dataframe tbody tr th {\n",
              "        vertical-align: top;\n",
              "    }\n",
              "\n",
              "    .dataframe thead th {\n",
              "        text-align: right;\n",
              "    }\n",
              "</style>\n",
              "<table border=\"1\" class=\"dataframe\">\n",
              "  <thead>\n",
              "    <tr style=\"text-align: right;\">\n",
              "      <th></th>\n",
              "      <th>Total_Ozone</th>\n",
              "    </tr>\n",
              "    <tr>\n",
              "      <th>Local_Date</th>\n",
              "      <th></th>\n",
              "    </tr>\n",
              "  </thead>\n",
              "  <tbody>\n",
              "    <tr>\n",
              "      <th>1988-01-19</th>\n",
              "      <td>298.0</td>\n",
              "    </tr>\n",
              "    <tr>\n",
              "      <th>1988-01-20</th>\n",
              "      <td>280.0</td>\n",
              "    </tr>\n",
              "    <tr>\n",
              "      <th>1988-01-21</th>\n",
              "      <td>279.0</td>\n",
              "    </tr>\n",
              "    <tr>\n",
              "      <th>1988-01-22</th>\n",
              "      <td>300.0</td>\n",
              "    </tr>\n",
              "    <tr>\n",
              "      <th>1988-01-23</th>\n",
              "      <td>285.0</td>\n",
              "    </tr>\n",
              "  </tbody>\n",
              "</table>\n",
              "</div>"
            ],
            "text/plain": [
              "            Total_Ozone\n",
              "Local_Date             \n",
              "1988-01-19        298.0\n",
              "1988-01-20        280.0\n",
              "1988-01-21        279.0\n",
              "1988-01-22        300.0\n",
              "1988-01-23        285.0"
            ]
          },
          "metadata": {
            "tags": []
          },
          "execution_count": 10
        }
      ]
    },
    {
      "cell_type": "code",
      "metadata": {
        "id": "t9nc_nM2A2y6",
        "colab_type": "code",
        "colab": {
          "base_uri": "https://localhost:8080/",
          "height": 225
        },
        "outputId": "c8de06f5-60f5-4cf9-8e74-a7a4342d43f2"
      },
      "source": [
        "data.tail()"
      ],
      "execution_count": 89,
      "outputs": [
        {
          "output_type": "execute_result",
          "data": {
            "text/html": [
              "<div>\n",
              "<style scoped>\n",
              "    .dataframe tbody tr th:only-of-type {\n",
              "        vertical-align: middle;\n",
              "    }\n",
              "\n",
              "    .dataframe tbody tr th {\n",
              "        vertical-align: top;\n",
              "    }\n",
              "\n",
              "    .dataframe thead th {\n",
              "        text-align: right;\n",
              "    }\n",
              "</style>\n",
              "<table border=\"1\" class=\"dataframe\">\n",
              "  <thead>\n",
              "    <tr style=\"text-align: right;\">\n",
              "      <th></th>\n",
              "      <th>Total_Ozone</th>\n",
              "    </tr>\n",
              "    <tr>\n",
              "      <th>Local_Date</th>\n",
              "      <th></th>\n",
              "    </tr>\n",
              "  </thead>\n",
              "  <tbody>\n",
              "    <tr>\n",
              "      <th>2018-10-31</th>\n",
              "      <td>209.0</td>\n",
              "    </tr>\n",
              "    <tr>\n",
              "      <th>2018-11-01</th>\n",
              "      <td>248.0</td>\n",
              "    </tr>\n",
              "    <tr>\n",
              "      <th>2018-11-02</th>\n",
              "      <td>211.0</td>\n",
              "    </tr>\n",
              "    <tr>\n",
              "      <th>2018-11-03</th>\n",
              "      <td>185.0</td>\n",
              "    </tr>\n",
              "    <tr>\n",
              "      <th>2018-11-05</th>\n",
              "      <td>286.0</td>\n",
              "    </tr>\n",
              "  </tbody>\n",
              "</table>\n",
              "</div>"
            ],
            "text/plain": [
              "            Total_Ozone\n",
              "Local_Date             \n",
              "2018-10-31        209.0\n",
              "2018-11-01        248.0\n",
              "2018-11-02        211.0\n",
              "2018-11-03        185.0\n",
              "2018-11-05        286.0"
            ]
          },
          "metadata": {
            "tags": []
          },
          "execution_count": 89
        }
      ]
    },
    {
      "cell_type": "markdown",
      "metadata": {
        "id": "av9_YtX2yWk5",
        "colab_type": "text"
      },
      "source": [
        "# Data Preprocessing"
      ]
    },
    {
      "cell_type": "code",
      "metadata": {
        "id": "csaFT0VZ9bbp",
        "colab_type": "code",
        "colab": {}
      },
      "source": [
        "# convert an array of values into a dataset matrix\n",
        "def create_dataset(dataset, look_back):\n",
        "    dataX = []\n",
        "    dataY = []\n",
        "    print(len(dataset))\n",
        "    for i in range(len(dataset)-look_back-1):\n",
        "        a = dataset[i:(i+look_back)]\n",
        "        dataX.append(a)\n",
        "        dataY.append(dataset[i + look_back])\n",
        "        \n",
        "    return np.array(dataX), np.array(dataY)"
      ],
      "execution_count": 0,
      "outputs": []
    },
    {
      "cell_type": "markdown",
      "metadata": {
        "id": "Nr9H8JOKzP7P",
        "colab_type": "text"
      },
      "source": [
        "## Split data into Train and Test sets"
      ]
    },
    {
      "cell_type": "code",
      "metadata": {
        "id": "2jD-R3eO_JKM",
        "colab_type": "code",
        "colab": {
          "base_uri": "https://localhost:8080/",
          "height": 50
        },
        "outputId": "750581b1-1b81-4349-de4d-e9926e4434cc"
      },
      "source": [
        "# Split the series for training and testing\n",
        "size = data.shape[0]\n",
        "tr =int(round(size*0.8))\n",
        "X_train, X_test = data[:tr] , data[tr:]\n",
        "\n",
        "# Reshape the series for further computations\n",
        "X_train = X_train.values.reshape(-1,1)\n",
        "X_test = X_test.values.reshape(-1,1)\n",
        "\n",
        "# Create train and test windows\n",
        "look_back = 7\n",
        "trainX, trainY = create_dataset(X_train, look_back)\n",
        "testX, testY = create_dataset(X_test, look_back)\n",
        "\n",
        "# reshape input to be [samples, time steps, features] for LSTM\n",
        "trainX = np.reshape(trainX, (trainX.shape[0], 1, trainX.shape[1]))\n",
        "testX = np.reshape(testX, (testX.shape[0], 1, testX.shape[1]))\n",
        "\n"
      ],
      "execution_count": 71,
      "outputs": [
        {
          "output_type": "stream",
          "text": [
            "3027\n",
            "757\n"
          ],
          "name": "stdout"
        }
      ]
    },
    {
      "cell_type": "markdown",
      "metadata": {
        "id": "3zfTtAvwzX9p",
        "colab_type": "text"
      },
      "source": [
        "# Create a time-series data for input to the LSTM Netwrok"
      ]
    },
    {
      "cell_type": "code",
      "metadata": {
        "id": "T_2GIbEX_JKU",
        "colab_type": "code",
        "colab": {}
      },
      "source": [
        "n_input = 7\n",
        "n_features = 1\n",
        "\n",
        "generator = TimeseriesGenerator(train, train, length= n_input)"
      ],
      "execution_count": 0,
      "outputs": []
    },
    {
      "cell_type": "markdown",
      "metadata": {
        "id": "v3EpDgpNzlm0",
        "colab_type": "text"
      },
      "source": [
        "# Create an LSTM Model"
      ]
    },
    {
      "cell_type": "code",
      "metadata": {
        "id": "PkGr54gT_JKW",
        "colab_type": "code",
        "colab": {
          "base_uri": "https://localhost:8080/",
          "height": 625
        },
        "outputId": "5bfa7174-097f-4ccb-8c19-d37ce2e26583"
      },
      "source": [
        "# create and fit the LSTM network\n",
        "model = Sequential()\n",
        "\n",
        "model.add(LSTM(100, input_shape=(1, look_back), activation='relu', dropout=0.2))\n",
        "\n",
        "model.add(Dense(1, activation=LeakyReLU(alpha=0.1)))\n",
        "model.summary()\n",
        "\n",
        "opt = Adam(lr=0.001, beta_1=0.9, beta_2=0.999 )\n",
        "\n",
        "model.compile(loss='mean_squared_error', optimizer=opt)\n",
        "\n",
        "start = time.time()\n",
        "training = model.fit(trainX, trainY, epochs=10, batch_size=1, verbose=1)\n",
        "end = time.time()\n",
        "\n",
        "runtime = end-start\n",
        "print('Runtime: ', runtime, 'seconds')"
      ],
      "execution_count": 79,
      "outputs": [
        {
          "output_type": "stream",
          "text": [
            "/usr/local/lib/python3.6/dist-packages/keras/activations.py:235: UserWarning: Do not pass a layer instance (such as LeakyReLU) as the activation argument of another layer. Instead, advanced activation layers should be used just like any other layer in a model.\n",
            "  identifier=identifier.__class__.__name__))\n"
          ],
          "name": "stderr"
        },
        {
          "output_type": "stream",
          "text": [
            "Model: \"sequential_19\"\n",
            "_________________________________________________________________\n",
            "Layer (type)                 Output Shape              Param #   \n",
            "=================================================================\n",
            "lstm_19 (LSTM)               (None, 100)               43200     \n",
            "_________________________________________________________________\n",
            "dense_15 (Dense)             (None, 1)                 101       \n",
            "=================================================================\n",
            "Total params: 43,301\n",
            "Trainable params: 43,301\n",
            "Non-trainable params: 0\n",
            "_________________________________________________________________\n",
            "Epoch 1/10\n",
            "3019/3019 [==============================] - 15s 5ms/step - loss: 2823.9175\n",
            "Epoch 2/10\n",
            "3019/3019 [==============================] - 14s 5ms/step - loss: 1418.2596\n",
            "Epoch 3/10\n",
            "3019/3019 [==============================] - 14s 5ms/step - loss: 1391.2647\n",
            "Epoch 4/10\n",
            "3019/3019 [==============================] - 14s 5ms/step - loss: 1258.5983\n",
            "Epoch 5/10\n",
            "3019/3019 [==============================] - 14s 5ms/step - loss: 1206.3960\n",
            "Epoch 6/10\n",
            "3019/3019 [==============================] - 14s 5ms/step - loss: 1222.0593\n",
            "Epoch 7/10\n",
            "3019/3019 [==============================] - 14s 5ms/step - loss: 1174.8274\n",
            "Epoch 8/10\n",
            "3019/3019 [==============================] - 13s 4ms/step - loss: 1211.4774\n",
            "Epoch 9/10\n",
            "3019/3019 [==============================] - 14s 5ms/step - loss: 1159.0243\n",
            "Epoch 10/10\n",
            "3019/3019 [==============================] - 13s 4ms/step - loss: 1137.9435\n",
            "Runtime:  138.6353895664215 seconds\n"
          ],
          "name": "stdout"
        }
      ]
    },
    {
      "cell_type": "code",
      "metadata": {
        "id": "yyLp-cwJ9IxO",
        "colab_type": "code",
        "colab": {}
      },
      "source": [
        "\n",
        "# # create and fit the LSTM network\n",
        "# model = Sequential()\n",
        "\n",
        "# model.add(LSTM(200, input_shape=(1, n_input), activation='relu', dropout=0.2))\n",
        "\n",
        "# model.add(Dense(1, activation=LeakyReLU(alpha=0.1)))\n",
        "# model.summary()\n",
        "\n",
        "# opt = Adam(lr=0.001, beta_1=0.9, beta_2=0.999 )\n",
        "\n",
        "# model.compile(loss='mean_squared_error', optimizer=opt)\n",
        "\n",
        "# start = time.time()\n",
        "# model.fit(trainX, trainY, epochs=100, batch_size=1, verbose=1)\n",
        "# end = time.time()\n",
        "\n",
        "# runtime = end-start\n",
        "# print('Runtime: ', runtime, 'seconds')"
      ],
      "execution_count": 0,
      "outputs": []
    },
    {
      "cell_type": "markdown",
      "metadata": {
        "id": "L93UmYOp0aCM",
        "colab_type": "text"
      },
      "source": [
        "# Plot Training Loss vs Epochs"
      ]
    },
    {
      "cell_type": "code",
      "metadata": {
        "id": "PsB3v9CK0ZZb",
        "colab_type": "code",
        "colab": {
          "base_uri": "https://localhost:8080/",
          "height": 374
        },
        "outputId": "40702be8-1602-492c-86b5-fc4c38b32c8d"
      },
      "source": [
        "loss = training.history[\"loss\"]\n",
        "\n",
        "epochs = range(len(loss))\n",
        "\n",
        "plt.figure(figsize=(12, 5))\n",
        "plt.plot(epochs, loss, 'b-', label='Training loss')\n",
        "plt.title('Training and Validation Loss VS Epochs', fontsize=15)\n",
        "plt.xlabel('Epochs', fontsize=15)\n",
        "plt.ylabel('Loss', fontsize=15)\n",
        "plt.legend()"
      ],
      "execution_count": 80,
      "outputs": [
        {
          "output_type": "execute_result",
          "data": {
            "text/plain": [
              "<matplotlib.legend.Legend at 0x7f37b1b61978>"
            ]
          },
          "metadata": {
            "tags": []
          },
          "execution_count": 80
        },
        {
          "output_type": "display_data",
          "data": {
            "image/png": "[encoded data removed]",
            "text/plain": [
              "<Figure size 864x360 with 1 Axes>"
            ]
          },
          "metadata": {
            "tags": [],
            "needs_background": "light"
          }
        }
      ]
    },
    {
      "cell_type": "markdown",
      "metadata": {
        "id": "W59SBE_j3hdE",
        "colab_type": "text"
      },
      "source": [
        "# Generate Predictions"
      ]
    },
    {
      "cell_type": "code",
      "metadata": {
        "id": "oyEGQHUk_5h_",
        "colab_type": "code",
        "colab": {}
      },
      "source": [
        "dates_range = 15\n",
        "new_data = data.copy()\n",
        "\n",
        "length = data.shape[0]\n",
        "new_data = new_data.reset_index()\n",
        "\n",
        "preds = np.zeros(dates_range)\n",
        "datelist = pd.date_range(data.index[-1], periods= dates_range)\n",
        "\n",
        "for i in range(dates_range-1):\n",
        "    col = new_data['Total_Ozone']\n",
        "    value = col[-look_back:]\n",
        "    value = value.values.reshape(1, 1, look_back)\n",
        "    preds = model.predict(value)\n",
        "    df = pd.DataFrame([[datelist[i+1], preds[0,0]]], columns=['index', 'Predictions'] )\n",
        "    new_data = new_data.append(df, ignore_index=True)\n",
        "\n",
        "new_data = new_data.set_index('index')"
      ],
      "execution_count": 0,
      "outputs": []
    },
    {
      "cell_type": "code",
      "metadata": {
        "id": "9Tr40KQ2ALWB",
        "colab_type": "code",
        "colab": {
          "base_uri": "https://localhost:8080/",
          "height": 431
        },
        "outputId": "27a9064e-e95b-4233-dd0b-eb48c80a3a76"
      },
      "source": [
        "new_data"
      ],
      "execution_count": 88,
      "outputs": [
        {
          "output_type": "execute_result",
          "data": {
            "text/html": [
              "<div>\n",
              "<style scoped>\n",
              "    .dataframe tbody tr th:only-of-type {\n",
              "        vertical-align: middle;\n",
              "    }\n",
              "\n",
              "    .dataframe tbody tr th {\n",
              "        vertical-align: top;\n",
              "    }\n",
              "\n",
              "    .dataframe thead th {\n",
              "        text-align: right;\n",
              "    }\n",
              "</style>\n",
              "<table border=\"1\" class=\"dataframe\">\n",
              "  <thead>\n",
              "    <tr style=\"text-align: right;\">\n",
              "      <th></th>\n",
              "      <th>Local_Date</th>\n",
              "      <th>Total_Ozone</th>\n",
              "      <th>Confirmed</th>\n",
              "    </tr>\n",
              "    <tr>\n",
              "      <th>index</th>\n",
              "      <th></th>\n",
              "      <th></th>\n",
              "      <th></th>\n",
              "    </tr>\n",
              "  </thead>\n",
              "  <tbody>\n",
              "    <tr>\n",
              "      <th>NaT</th>\n",
              "      <td>1988-01-19</td>\n",
              "      <td>298.0</td>\n",
              "      <td>NaN</td>\n",
              "    </tr>\n",
              "    <tr>\n",
              "      <th>NaT</th>\n",
              "      <td>1988-01-20</td>\n",
              "      <td>280.0</td>\n",
              "      <td>NaN</td>\n",
              "    </tr>\n",
              "    <tr>\n",
              "      <th>NaT</th>\n",
              "      <td>1988-01-21</td>\n",
              "      <td>279.0</td>\n",
              "      <td>NaN</td>\n",
              "    </tr>\n",
              "    <tr>\n",
              "      <th>NaT</th>\n",
              "      <td>1988-01-22</td>\n",
              "      <td>300.0</td>\n",
              "      <td>NaN</td>\n",
              "    </tr>\n",
              "    <tr>\n",
              "      <th>NaT</th>\n",
              "      <td>1988-01-23</td>\n",
              "      <td>285.0</td>\n",
              "      <td>NaN</td>\n",
              "    </tr>\n",
              "    <tr>\n",
              "      <th>...</th>\n",
              "      <td>...</td>\n",
              "      <td>...</td>\n",
              "      <td>...</td>\n",
              "    </tr>\n",
              "    <tr>\n",
              "      <th>2018-11-15</th>\n",
              "      <td>NaT</td>\n",
              "      <td>NaN</td>\n",
              "      <td>NaN</td>\n",
              "    </tr>\n",
              "    <tr>\n",
              "      <th>2018-11-16</th>\n",
              "      <td>NaT</td>\n",
              "      <td>NaN</td>\n",
              "      <td>NaN</td>\n",
              "    </tr>\n",
              "    <tr>\n",
              "      <th>2018-11-17</th>\n",
              "      <td>NaT</td>\n",
              "      <td>NaN</td>\n",
              "      <td>NaN</td>\n",
              "    </tr>\n",
              "    <tr>\n",
              "      <th>2018-11-18</th>\n",
              "      <td>NaT</td>\n",
              "      <td>NaN</td>\n",
              "      <td>NaN</td>\n",
              "    </tr>\n",
              "    <tr>\n",
              "      <th>2018-11-19</th>\n",
              "      <td>NaT</td>\n",
              "      <td>NaN</td>\n",
              "      <td>NaN</td>\n",
              "    </tr>\n",
              "  </tbody>\n",
              "</table>\n",
              "<p>3798 rows × 3 columns</p>\n",
              "</div>"
            ],
            "text/plain": [
              "           Local_Date  Total_Ozone  Confirmed\n",
              "index                                        \n",
              "NaT        1988-01-19        298.0        NaN\n",
              "NaT        1988-01-20        280.0        NaN\n",
              "NaT        1988-01-21        279.0        NaN\n",
              "NaT        1988-01-22        300.0        NaN\n",
              "NaT        1988-01-23        285.0        NaN\n",
              "...               ...          ...        ...\n",
              "2018-11-15        NaT          NaN        NaN\n",
              "2018-11-16        NaT          NaN        NaN\n",
              "2018-11-17        NaT          NaN        NaN\n",
              "2018-11-18        NaT          NaN        NaN\n",
              "2018-11-19        NaT          NaN        NaN\n",
              "\n",
              "[3798 rows x 3 columns]"
            ]
          },
          "metadata": {
            "tags": []
          },
          "execution_count": 88
        }
      ]
    },
    {
      "cell_type": "code",
      "metadata": {
        "id": "Uwcjdzkr__IC",
        "colab_type": "code",
        "colab": {}
      },
      "source": [
        "batch = np.append(batch[:, 1:, :], [[[2]]]],axis=1)\n",
        "batch"
      ],
      "execution_count": 0,
      "outputs": []
    },
    {
      "cell_type": "code",
      "metadata": {
        "id": "CxfbzQbe_oEA",
        "colab_type": "code",
        "colab": {
          "base_uri": "https://localhost:8080/",
          "height": 390
        },
        "outputId": "a0ce62c8-ca5b-4f6b-a3a5-46e8003f4e47"
      },
      "source": [
        "preds = []\n",
        "batch = train[-(n_input):].reshape((n_input, 1))\n",
        "\n",
        "for i in range(n_input*20):\n",
        "    preds.append(model.predict(batch)[0])\n",
        "    batch = np.append(batch[:, 1:, :], [[preds[i]]],axis=1)\n",
        "\n",
        "df_preds = pd.DataFrame(scaled.inverse_transform(preds), index = data[-(20*n_input):].index, columns = ['Predictions'] )\n"
      ],
      "execution_count": 82,
      "outputs": [
        {
          "output_type": "error",
          "ename": "ValueError",
          "evalue": "ignored",
          "traceback": [
            "\u001b[0;31m---------------------------------------------------------------------------\u001b[0m",
            "\u001b[0;31mValueError\u001b[0m                                Traceback (most recent call last)",
            "\u001b[0;32m<ipython-input-82-b378d1aa5d30>\u001b[0m in \u001b[0;36m<module>\u001b[0;34m()\u001b[0m\n\u001b[1;32m      3\u001b[0m \u001b[0;34m\u001b[0m\u001b[0m\n\u001b[1;32m      4\u001b[0m \u001b[0;32mfor\u001b[0m \u001b[0mi\u001b[0m \u001b[0;32min\u001b[0m \u001b[0mrange\u001b[0m\u001b[0;34m(\u001b[0m\u001b[0mn_input\u001b[0m\u001b[0;34m*\u001b[0m\u001b[0;36m20\u001b[0m\u001b[0;34m)\u001b[0m\u001b[0;34m:\u001b[0m\u001b[0;34m\u001b[0m\u001b[0;34m\u001b[0m\u001b[0m\n\u001b[0;32m----> 5\u001b[0;31m     \u001b[0mpreds\u001b[0m\u001b[0;34m.\u001b[0m\u001b[0mappend\u001b[0m\u001b[0;34m(\u001b[0m\u001b[0mmodel\u001b[0m\u001b[0;34m.\u001b[0m\u001b[0mpredict\u001b[0m\u001b[0;34m(\u001b[0m\u001b[0mbatch\u001b[0m\u001b[0;34m)\u001b[0m\u001b[0;34m[\u001b[0m\u001b[0;36m0\u001b[0m\u001b[0;34m]\u001b[0m\u001b[0;34m)\u001b[0m\u001b[0;34m\u001b[0m\u001b[0;34m\u001b[0m\u001b[0m\n\u001b[0m\u001b[1;32m      6\u001b[0m     \u001b[0mbatch\u001b[0m \u001b[0;34m=\u001b[0m \u001b[0mnp\u001b[0m\u001b[0;34m.\u001b[0m\u001b[0mappend\u001b[0m\u001b[0;34m(\u001b[0m\u001b[0mbatch\u001b[0m\u001b[0;34m[\u001b[0m\u001b[0;34m:\u001b[0m\u001b[0;34m,\u001b[0m \u001b[0;36m1\u001b[0m\u001b[0;34m:\u001b[0m\u001b[0;34m,\u001b[0m \u001b[0;34m:\u001b[0m\u001b[0;34m]\u001b[0m\u001b[0;34m,\u001b[0m \u001b[0;34m[\u001b[0m\u001b[0;34m[\u001b[0m\u001b[0mpreds\u001b[0m\u001b[0;34m[\u001b[0m\u001b[0mi\u001b[0m\u001b[0;34m]\u001b[0m\u001b[0;34m]\u001b[0m\u001b[0;34m]\u001b[0m\u001b[0;34m,\u001b[0m\u001b[0maxis\u001b[0m\u001b[0;34m=\u001b[0m\u001b[0;36m1\u001b[0m\u001b[0;34m)\u001b[0m\u001b[0;34m\u001b[0m\u001b[0;34m\u001b[0m\u001b[0m\n\u001b[1;32m      7\u001b[0m \u001b[0;34m\u001b[0m\u001b[0m\n",
            "\u001b[0;32m/usr/local/lib/python3.6/dist-packages/keras/engine/training.py\u001b[0m in \u001b[0;36mpredict\u001b[0;34m(self, x, batch_size, verbose, steps, callbacks, max_queue_size, workers, use_multiprocessing)\u001b[0m\n\u001b[1;32m   1439\u001b[0m \u001b[0;34m\u001b[0m\u001b[0m\n\u001b[1;32m   1440\u001b[0m         \u001b[0;31m# Case 2: Symbolic tensors or Numpy array-like.\u001b[0m\u001b[0;34m\u001b[0m\u001b[0;34m\u001b[0m\u001b[0;34m\u001b[0m\u001b[0m\n\u001b[0;32m-> 1441\u001b[0;31m         \u001b[0mx\u001b[0m\u001b[0;34m,\u001b[0m \u001b[0m_\u001b[0m\u001b[0;34m,\u001b[0m \u001b[0m_\u001b[0m \u001b[0;34m=\u001b[0m \u001b[0mself\u001b[0m\u001b[0;34m.\u001b[0m\u001b[0m_standardize_user_data\u001b[0m\u001b[0;34m(\u001b[0m\u001b[0mx\u001b[0m\u001b[0;34m)\u001b[0m\u001b[0;34m\u001b[0m\u001b[0;34m\u001b[0m\u001b[0m\n\u001b[0m\u001b[1;32m   1442\u001b[0m         \u001b[0;32mif\u001b[0m \u001b[0mself\u001b[0m\u001b[0;34m.\u001b[0m\u001b[0mstateful\u001b[0m\u001b[0;34m:\u001b[0m\u001b[0;34m\u001b[0m\u001b[0;34m\u001b[0m\u001b[0m\n\u001b[1;32m   1443\u001b[0m             \u001b[0;32mif\u001b[0m \u001b[0mx\u001b[0m\u001b[0;34m[\u001b[0m\u001b[0;36m0\u001b[0m\u001b[0;34m]\u001b[0m\u001b[0;34m.\u001b[0m\u001b[0mshape\u001b[0m\u001b[0;34m[\u001b[0m\u001b[0;36m0\u001b[0m\u001b[0;34m]\u001b[0m \u001b[0;34m>\u001b[0m \u001b[0mbatch_size\u001b[0m \u001b[0;32mand\u001b[0m \u001b[0mx\u001b[0m\u001b[0;34m[\u001b[0m\u001b[0;36m0\u001b[0m\u001b[0;34m]\u001b[0m\u001b[0;34m.\u001b[0m\u001b[0mshape\u001b[0m\u001b[0;34m[\u001b[0m\u001b[0;36m0\u001b[0m\u001b[0;34m]\u001b[0m \u001b[0;34m%\u001b[0m \u001b[0mbatch_size\u001b[0m \u001b[0;34m!=\u001b[0m \u001b[0;36m0\u001b[0m\u001b[0;34m:\u001b[0m\u001b[0;34m\u001b[0m\u001b[0;34m\u001b[0m\u001b[0m\n",
            "\u001b[0;32m/usr/local/lib/python3.6/dist-packages/keras/engine/training.py\u001b[0m in \u001b[0;36m_standardize_user_data\u001b[0;34m(self, x, y, sample_weight, class_weight, check_array_lengths, batch_size)\u001b[0m\n\u001b[1;32m    577\u001b[0m             \u001b[0mfeed_input_shapes\u001b[0m\u001b[0;34m,\u001b[0m\u001b[0;34m\u001b[0m\u001b[0;34m\u001b[0m\u001b[0m\n\u001b[1;32m    578\u001b[0m             \u001b[0mcheck_batch_axis\u001b[0m\u001b[0;34m=\u001b[0m\u001b[0;32mFalse\u001b[0m\u001b[0;34m,\u001b[0m  \u001b[0;31m# Don't enforce the batch size.\u001b[0m\u001b[0;34m\u001b[0m\u001b[0;34m\u001b[0m\u001b[0m\n\u001b[0;32m--> 579\u001b[0;31m             exception_prefix='input')\n\u001b[0m\u001b[1;32m    580\u001b[0m \u001b[0;34m\u001b[0m\u001b[0m\n\u001b[1;32m    581\u001b[0m         \u001b[0;32mif\u001b[0m \u001b[0my\u001b[0m \u001b[0;32mis\u001b[0m \u001b[0;32mnot\u001b[0m \u001b[0;32mNone\u001b[0m\u001b[0;34m:\u001b[0m\u001b[0;34m\u001b[0m\u001b[0;34m\u001b[0m\u001b[0m\n",
            "\u001b[0;32m/usr/local/lib/python3.6/dist-packages/keras/engine/training_utils.py\u001b[0m in \u001b[0;36mstandardize_input_data\u001b[0;34m(data, names, shapes, check_batch_axis, exception_prefix)\u001b[0m\n\u001b[1;32m    133\u001b[0m                         \u001b[0;34m': expected '\u001b[0m \u001b[0;34m+\u001b[0m \u001b[0mnames\u001b[0m\u001b[0;34m[\u001b[0m\u001b[0mi\u001b[0m\u001b[0;34m]\u001b[0m \u001b[0;34m+\u001b[0m \u001b[0;34m' to have '\u001b[0m \u001b[0;34m+\u001b[0m\u001b[0;34m\u001b[0m\u001b[0;34m\u001b[0m\u001b[0m\n\u001b[1;32m    134\u001b[0m                         \u001b[0mstr\u001b[0m\u001b[0;34m(\u001b[0m\u001b[0mlen\u001b[0m\u001b[0;34m(\u001b[0m\u001b[0mshape\u001b[0m\u001b[0;34m)\u001b[0m\u001b[0;34m)\u001b[0m \u001b[0;34m+\u001b[0m \u001b[0;34m' dimensions, but got array '\u001b[0m\u001b[0;34m\u001b[0m\u001b[0;34m\u001b[0m\u001b[0m\n\u001b[0;32m--> 135\u001b[0;31m                         'with shape ' + str(data_shape))\n\u001b[0m\u001b[1;32m    136\u001b[0m                 \u001b[0;32mif\u001b[0m \u001b[0;32mnot\u001b[0m \u001b[0mcheck_batch_axis\u001b[0m\u001b[0;34m:\u001b[0m\u001b[0;34m\u001b[0m\u001b[0;34m\u001b[0m\u001b[0m\n\u001b[1;32m    137\u001b[0m                     \u001b[0mdata_shape\u001b[0m \u001b[0;34m=\u001b[0m \u001b[0mdata_shape\u001b[0m\u001b[0;34m[\u001b[0m\u001b[0;36m1\u001b[0m\u001b[0;34m:\u001b[0m\u001b[0;34m]\u001b[0m\u001b[0;34m\u001b[0m\u001b[0;34m\u001b[0m\u001b[0m\n",
            "\u001b[0;31mValueError\u001b[0m: Error when checking input: expected lstm_19_input to have 3 dimensions, but got array with shape (7, 1)"
          ]
        }
      ]
    },
    {
      "cell_type": "code",
      "metadata": {
        "id": "zB3ZIH5y9Dy-",
        "colab_type": "code",
        "colab": {
          "base_uri": "https://localhost:8080/",
          "height": 431
        },
        "outputId": "8455c072-0834-47be-edd1-9aaa9b506a9e"
      },
      "source": [
        "df_preds"
      ],
      "execution_count": 69,
      "outputs": [
        {
          "output_type": "execute_result",
          "data": {
            "text/html": [
              "<div>\n",
              "<style scoped>\n",
              "    .dataframe tbody tr th:only-of-type {\n",
              "        vertical-align: middle;\n",
              "    }\n",
              "\n",
              "    .dataframe tbody tr th {\n",
              "        vertical-align: top;\n",
              "    }\n",
              "\n",
              "    .dataframe thead th {\n",
              "        text-align: right;\n",
              "    }\n",
              "</style>\n",
              "<table border=\"1\" class=\"dataframe\">\n",
              "  <thead>\n",
              "    <tr style=\"text-align: right;\">\n",
              "      <th></th>\n",
              "      <th>Predictions</th>\n",
              "    </tr>\n",
              "    <tr>\n",
              "      <th>Local_Date</th>\n",
              "      <th></th>\n",
              "    </tr>\n",
              "  </thead>\n",
              "  <tbody>\n",
              "    <tr>\n",
              "      <th>2016-10-30</th>\n",
              "      <td>167.591293</td>\n",
              "    </tr>\n",
              "    <tr>\n",
              "      <th>2016-10-31</th>\n",
              "      <td>171.894083</td>\n",
              "    </tr>\n",
              "    <tr>\n",
              "      <th>2016-11-01</th>\n",
              "      <td>176.700515</td>\n",
              "    </tr>\n",
              "    <tr>\n",
              "      <th>2016-11-02</th>\n",
              "      <td>181.521673</td>\n",
              "    </tr>\n",
              "    <tr>\n",
              "      <th>2016-11-03</th>\n",
              "      <td>186.937499</td>\n",
              "    </tr>\n",
              "    <tr>\n",
              "      <th>...</th>\n",
              "      <td>...</td>\n",
              "    </tr>\n",
              "    <tr>\n",
              "      <th>2018-10-31</th>\n",
              "      <td>297.169429</td>\n",
              "    </tr>\n",
              "    <tr>\n",
              "      <th>2018-11-01</th>\n",
              "      <td>297.170256</td>\n",
              "    </tr>\n",
              "    <tr>\n",
              "      <th>2018-11-02</th>\n",
              "      <td>297.171042</td>\n",
              "    </tr>\n",
              "    <tr>\n",
              "      <th>2018-11-03</th>\n",
              "      <td>297.171766</td>\n",
              "    </tr>\n",
              "    <tr>\n",
              "      <th>2018-11-05</th>\n",
              "      <td>297.172449</td>\n",
              "    </tr>\n",
              "  </tbody>\n",
              "</table>\n",
              "<p>140 rows × 1 columns</p>\n",
              "</div>"
            ],
            "text/plain": [
              "            Predictions\n",
              "Local_Date             \n",
              "2016-10-30   167.591293\n",
              "2016-10-31   171.894083\n",
              "2016-11-01   176.700515\n",
              "2016-11-02   181.521673\n",
              "2016-11-03   186.937499\n",
              "...                 ...\n",
              "2018-10-31   297.169429\n",
              "2018-11-01   297.170256\n",
              "2018-11-02   297.171042\n",
              "2018-11-03   297.171766\n",
              "2018-11-05   297.172449\n",
              "\n",
              "[140 rows x 1 columns]"
            ]
          },
          "metadata": {
            "tags": []
          },
          "execution_count": 69
        }
      ]
    },
    {
      "cell_type": "code",
      "metadata": {
        "id": "ZEG7XC1pF0Aj",
        "colab_type": "code",
        "outputId": "df737e64-7d9f-4e22-fbb9-7821948a71c0",
        "colab": {
          "base_uri": "https://localhost:8080/",
          "height": 337
        }
      },
      "source": [
        "plt.figure(figsize=(12, 5))\n",
        "plt.plot(df_preds.index, df_preds.Predictions, 'b-', label='predictions')\n",
        "# plt.title('Training and Validation Loss VS Epochs', fontsize=15)\n",
        "# plt.xlabel('Epochs', fontsize=15)\n",
        "# plt.ylabel('Loss', fontsize=15)\n",
        "plt.legend()"
      ],
      "execution_count": 68,
      "outputs": [
        {
          "output_type": "execute_result",
          "data": {
            "text/plain": [
              "<matplotlib.legend.Legend at 0x7f37b34357f0>"
            ]
          },
          "metadata": {
            "tags": []
          },
          "execution_count": 68
        },
        {
          "output_type": "display_data",
          "data": {
            "image/png": "[encoded data removed]",
            "text/plain": [
              "<Figure size 864x360 with 1 Axes>"
            ]
          },
          "metadata": {
            "tags": [],
            "needs_background": "light"
          }
        }
      ]
    },
    {
      "cell_type": "code",
      "metadata": {
        "id": "90uBn_IIIDFo",
        "colab_type": "code",
        "outputId": "79926c99-5d1c-41e3-85a6-ae778515b3de",
        "colab": {
          "base_uri": "https://localhost:8080/",
          "height": 34
        }
      },
      "source": [
        "x_input = np.array([28,29,30]).reshape((1, n_input))\n",
        "\n",
        "yhat = model.predict(x_input, verbose=0)\n",
        "print(yhat)"
      ],
      "execution_count": 0,
      "outputs": [
        {
          "output_type": "stream",
          "text": [
            "[[32.07216]]\n"
          ],
          "name": "stdout"
        }
      ]
    },
    {
      "cell_type": "code",
      "metadata": {
        "id": "2DrLrpXfIDbW",
        "colab_type": "code",
        "outputId": "e5f83b9b-4bdd-488f-e10b-07b338bc9281",
        "colab": {
          "base_uri": "https://localhost:8080/",
          "height": 34
        }
      },
      "source": [
        "x_input = np.array([9, 10,11]).reshape((1, n_input))\n",
        "x_input"
      ],
      "execution_count": 0,
      "outputs": [
        {
          "output_type": "execute_result",
          "data": {
            "text/plain": [
              "array([[ 9, 10, 11]])"
            ]
          },
          "metadata": {
            "tags": []
          },
          "execution_count": 88
        }
      ]
    },
    {
      "cell_type": "code",
      "metadata": {
        "id": "I2dG_fS3JbBl",
        "colab_type": "code",
        "outputId": "97d24712-99bd-4e35-a5e9-4237cd5ac455",
        "colab": {
          "base_uri": "https://localhost:8080/",
          "height": 50
        }
      },
      "source": [
        "import numpy as np\n",
        "\n",
        "a = np.zeros((2,2))\n",
        "a"
      ],
      "execution_count": 0,
      "outputs": [
        {
          "output_type": "execute_result",
          "data": {
            "text/plain": [
              "array([[0., 0.],\n",
              "       [0., 0.]])"
            ]
          },
          "metadata": {
            "tags": []
          },
          "execution_count": 1
        }
      ]
    },
    {
      "cell_type": "code",
      "metadata": {
        "id": "rZVYA3ufzI59",
        "colab_type": "code",
        "outputId": "b08963fa-6699-489f-dbe5-1e2059a88d48",
        "colab": {
          "base_uri": "https://localhost:8080/",
          "height": 50
        }
      },
      "source": [
        "a[1,1] = 2\n",
        "a"
      ],
      "execution_count": 0,
      "outputs": [
        {
          "output_type": "execute_result",
          "data": {
            "text/plain": [
              "array([[0., 0.],\n",
              "       [0., 2.]])"
            ]
          },
          "metadata": {
            "tags": []
          },
          "execution_count": 3
        }
      ]
    },
    {
      "cell_type": "code",
      "metadata": {
        "id": "M2jhEY3hzYvk",
        "colab_type": "code",
        "outputId": "4933c519-553f-4d36-8ac5-ba29f26342c1",
        "colab": {
          "base_uri": "https://localhost:8080/",
          "height": 50
        }
      },
      "source": [
        "b = np.linspace(0,10,21)\n",
        "b"
      ],
      "execution_count": 0,
      "outputs": [
        {
          "output_type": "execute_result",
          "data": {
            "text/plain": [
              "array([ 0. ,  0.5,  1. ,  1.5,  2. ,  2.5,  3. ,  3.5,  4. ,  4.5,  5. ,\n",
              "        5.5,  6. ,  6.5,  7. ,  7.5,  8. ,  8.5,  9. ,  9.5, 10. ])"
            ]
          },
          "metadata": {
            "tags": []
          },
          "execution_count": 6
        }
      ]
    },
    {
      "cell_type": "code",
      "metadata": {
        "id": "kSmvEeIxf0MX",
        "colab_type": "code",
        "colab": {}
      },
      "source": [
        ""
      ],
      "execution_count": 0,
      "outputs": []
    }
  ]
}